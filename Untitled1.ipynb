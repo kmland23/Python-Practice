{
 "cells": [
  {
   "cell_type": "code",
   "execution_count": 1,
   "metadata": {},
   "outputs": [
    {
     "name": "stdout",
     "output_type": "stream",
     "text": [
      "https://drive.google.com/open?id=1G6SEgg018UB4_4xsAJJ5TdzrhmXipr4Q\n"
     ]
    }
   ],
   "source": [
    "import csv\n",
    "\n",
    "with open ('find_the_link.csv') as csv_file:\n",
    "    csv_reader=csv.reader(csv_file, delimiter=',')\n",
    "    \n",
    "    address=''\n",
    "    i=0\n",
    "    for row in csv_reader:\n",
    "        address+=str(row[i])\n",
    "        i=i+1\n",
    "    #''.join(address)\n",
    "    print(address)"
   ]
  },
  {
   "cell_type": "code",
   "execution_count": 2,
   "metadata": {},
   "outputs": [
    {
     "name": "stdout",
     "output_type": "stream",
     "text": [
      "505 251\n",
      "1015 559\n",
      "505 251\n"
     ]
    }
   ],
   "source": [
    "from PIL import Image\n",
    "\n",
    "mask=Image.open(\"mask.png\")\n",
    "matrix=Image.open(\"word_matrix.png\")\n",
    "\n",
    "mask_width, mask_height=mask.size\n",
    "matrix_width, matrix_height=matrix.size\n",
    "\n",
    "print(mask_width, mask_height)\n",
    "print(matrix_width, matrix_height)\n",
    "\n",
    "matrix=matrix.crop( (0,0, mask_width, mask_height))\n",
    "Image.blend(matrix, mask, 0.5)\n",
    "\n",
    "matrix_width, matrix_height=matrix.size\n",
    "print(matrix_width, matrix_height)\n",
    "\n",
    "matrix.save(\"overlay.png\")\n"
   ]
  },
  {
   "cell_type": "code",
   "execution_count": null,
   "metadata": {},
   "outputs": [],
   "source": []
  }
 ],
 "metadata": {
  "kernelspec": {
   "display_name": "Python 3",
   "language": "python",
   "name": "python3"
  },
  "language_info": {
   "codemirror_mode": {
    "name": "ipython",
    "version": 3
   },
   "file_extension": ".py",
   "mimetype": "text/x-python",
   "name": "python",
   "nbconvert_exporter": "python",
   "pygments_lexer": "ipython3",
   "version": "3.7.6"
  },
  "varInspector": {
   "cols": {
    "lenName": 16,
    "lenType": 16,
    "lenVar": 40
   },
   "kernels_config": {
    "python": {
     "delete_cmd_postfix": "",
     "delete_cmd_prefix": "del ",
     "library": "var_list.py",
     "varRefreshCmd": "print(var_dic_list())"
    },
    "r": {
     "delete_cmd_postfix": ") ",
     "delete_cmd_prefix": "rm(",
     "library": "var_list.r",
     "varRefreshCmd": "cat(var_dic_list()) "
    }
   },
   "types_to_exclude": [
    "module",
    "function",
    "builtin_function_or_method",
    "instance",
    "_Feature"
   ],
   "window_display": true
  }
 },
 "nbformat": 4,
 "nbformat_minor": 4
}
